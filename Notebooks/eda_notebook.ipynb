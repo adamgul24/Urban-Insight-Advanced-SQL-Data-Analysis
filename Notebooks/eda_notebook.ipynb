import pandas as pd
import seaborn as sns
import matplotlib.pyplot as plt

# Load data
df = pd.read_csv('../data/minneapolis_crime_data.csv')

# Display first few rows
df.head()

# Summary statistics
df.describe()

# Visualizations
sns.histplot(df['crime_duration'], bins=50)
plt.title('Crime Duration Distribution')
plt.show()

# Additional visualizations
sns.countplot(x='crime_type', data=df)
plt.title('Crime Type Distribution')
plt.show()
